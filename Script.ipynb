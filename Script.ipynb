{
  "nbformat": 4,
  "nbformat_minor": 0,
  "metadata": {
    "colab": {
      "name": "Script.ipynb",
      "provenance": [],
      "collapsed_sections": [],
      "authorship_tag": "ABX9TyMKki4286/saznDzssVMjLA",
      "include_colab_link": true
    },
    "kernelspec": {
      "name": "python3",
      "display_name": "Python 3"
    },
    "language_info": {
      "name": "python"
    }
  },
  "cells": [
    {
      "cell_type": "markdown",
      "metadata": {
        "id": "view-in-github",
        "colab_type": "text"
      },
      "source": [
        "<a href=\"https://colab.research.google.com/github/tvlemes/curso-python-para-analise-de-dados/blob/main/Script.ipynb\" target=\"_parent\"><img src=\"https://colab.research.google.com/assets/colab-badge.svg\" alt=\"Open In Colab\"/></a>"
      ]
    },
    {
      "cell_type": "code",
      "execution_count": 2,
      "metadata": {
        "colab": {
          "base_uri": "https://localhost:8080/"
        },
        "id": "JqrboFY_-mCz",
        "outputId": "0e2b4cd5-21ec-40c8-99dc-d8464cc71f42"
      },
      "outputs": [
        {
          "output_type": "stream",
          "name": "stdout",
          "text": [
            "Ola Thiago!\n"
          ]
        }
      ],
      "source": [
        "print('Ola Thiago!')"
      ]
    },
    {
      "cell_type": "code",
      "source": [
        "print('Tudo bem?')"
      ],
      "metadata": {
        "id": "aJp2gZQvBjzG"
      },
      "execution_count": null,
      "outputs": []
    }
  ]
}